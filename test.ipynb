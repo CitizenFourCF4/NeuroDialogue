{
 "cells": [
  {
   "cell_type": "code",
   "execution_count": 20,
   "metadata": {},
   "outputs": [],
   "source": [
    "text = r\"\"\"\\begin{table} \\begin{tabular}{l|c|c|c} \\hline Model & Precision & Recall & F1 \\ \\hline Deckard & 0.93 & 0.02 & 0.03 \\ RtvNN & 0.95 & 0.01 & 0.01 \\ CDLH & 0.92 & 0.74 & 0.82 \\ ASTNN & 0.92 & 0.94 & 0.93 \\ FA-AST-GMN & 0.96 & 0.94 & 0.95 \\ \\hline RoBERTa (code) & 0.960 & 0.955 & 0.957 \\ CodeBERT & 0.964 & 0.966 & 0.965 \\ GraphCodeBERT & 0.973 & 0.968 & 0.971 \\ \\hline \\end{tabular} \\end{table}\"\"\""
   ]
  },
  {
   "cell_type": "code",
   "execution_count": 18,
   "metadata": {},
   "outputs": [
    {
     "ename": "ValueError",
     "evalue": "max() arg is an empty sequence",
     "output_type": "error",
     "traceback": [
      "\u001b[0;31m---------------------------------------------------------------------------\u001b[0m",
      "\u001b[0;31mValueError\u001b[0m                                Traceback (most recent call last)",
      "Cell \u001b[0;32mIn[18], line 1\u001b[0m\n\u001b[0;32m----> 1\u001b[0m \u001b[43mlatex_to_markdown_table\u001b[49m\u001b[43m(\u001b[49m\u001b[43mtext\u001b[49m\u001b[43m)\u001b[49m\n",
      "Cell \u001b[0;32mIn[15], line 26\u001b[0m, in \u001b[0;36mlatex_to_markdown_table\u001b[0;34m(latex_code)\u001b[0m\n\u001b[1;32m     23\u001b[0m rows \u001b[38;5;241m=\u001b[39m [[cell\u001b[38;5;241m.\u001b[39mstrip()\u001b[38;5;241m.\u001b[39mstrip(\u001b[38;5;124m\"\u001b[39m\u001b[38;5;130;01m\\\\\u001b[39;00m\u001b[38;5;124m\"\u001b[39m) \u001b[38;5;28;01mfor\u001b[39;00m cell \u001b[38;5;129;01min\u001b[39;00m row] \u001b[38;5;28;01mfor\u001b[39;00m row \u001b[38;5;129;01min\u001b[39;00m rows]\n\u001b[1;32m     25\u001b[0m \u001b[38;5;66;03m# Определяем количество столбцов\u001b[39;00m\n\u001b[0;32m---> 26\u001b[0m column_count \u001b[38;5;241m=\u001b[39m \u001b[38;5;28;43mmax\u001b[39;49m\u001b[43m(\u001b[49m\u001b[38;5;28;43mlen\u001b[39;49m\u001b[43m(\u001b[49m\u001b[43mrow\u001b[49m\u001b[43m)\u001b[49m\u001b[43m \u001b[49m\u001b[38;5;28;43;01mfor\u001b[39;49;00m\u001b[43m \u001b[49m\u001b[43mrow\u001b[49m\u001b[43m \u001b[49m\u001b[38;5;129;43;01min\u001b[39;49;00m\u001b[43m \u001b[49m\u001b[43mrows\u001b[49m\u001b[43m)\u001b[49m\n\u001b[1;32m     28\u001b[0m \u001b[38;5;66;03m# Формируем Markdown-таблицу\u001b[39;00m\n\u001b[1;32m     29\u001b[0m markdown_table \u001b[38;5;241m=\u001b[39m []\n",
      "\u001b[0;31mValueError\u001b[0m: max() arg is an empty sequence"
     ]
    }
   ],
   "source": [
    "latex_to_markdown_table(text)"
   ]
  },
  {
   "cell_type": "code",
   "execution_count": null,
   "metadata": {},
   "outputs": [],
   "source": [
    "latex_code = \"\"\"\n",
    "\\\\begin{table} \n",
    "\\\\begin{tabular}{l|c|c|c} \n",
    "\\\\hline \n",
    "Model & Precision & Recall & F1 \\\\ \n",
    "\\\\hline \n",
    "Deckard & 0.93 & 0.02 & 0.03 \\\\ \n",
    "RtvNN & 0.95 & 0.01 & 0.01 \\\\ \n",
    "CDLH & 0.92 & 0.74 & 0.82 \\\\ \n",
    "ASTNN & 0.92 & 0.94 & 0.93 \\\\ \n",
    "FA-AST-GMN & 0.96 & 0.94 & 0.95 \\\\ \n",
    "\\\\hline \n",
    "RoBERTa (code) & 0.960 & 0.955 & 0.957 \\\\ \n",
    "CodeBERT & 0.964 & 0.966 & 0.965 \\\\ \n",
    "GraphCodeBERT & 0.973 & 0.968 & 0.971 \\\\ \n",
    "\\\\hline \n",
    "\\\\end{tabular} \n",
    "\\\\end{table}\n",
    "\"\"\""
   ]
  },
  {
   "cell_type": "code",
   "execution_count": null,
   "metadata": {},
   "outputs": [],
   "source": [
    "\"\"\"\\begin{table} \\begin{tabular}{l|c|c|c} \\hline Model & Precision & Recall & F1 \\ \\hline Deckard & 0.93 & 0.02 & 0.03 \\ RtvNN & 0.95 & 0.01 & 0.01 \\ CDLH & 0.92 & 0.74 & 0.82 \\ ASTNN & 0.92 & 0.94 & 0.93 \\ FA-AST-GMN & 0.96 & 0.94 & 0.95 \\ \\hline RoBERTa (code) & 0.960 & 0.955 & 0.957 \\ CodeBERT & 0.964 & 0.966 & 0.965 \\ GraphCodeBERT & 0.973 & 0.968 & 0.971 \\ \\hline \\end{tabular} \\end{table}\"\"\""
   ]
  },
  {
   "cell_type": "code",
   "execution_count": 17,
   "metadata": {},
   "outputs": [
    {
     "data": {
      "text/plain": [
       "'| Model | Precision | Recall | F1  |\\n| ----- | --------- | ------ | --- |\\n| Deckard | 0.93 | 0.02 | 0.03  |\\n| RtvNN | 0.95 | 0.01 | 0.01  |\\n| CDLH | 0.92 | 0.74 | 0.82  |\\n| ASTNN | 0.92 | 0.94 | 0.93  |\\n| FA-AST-GMN | 0.96 | 0.94 | 0.95  |\\n| RoBERTa (code) | 0.960 | 0.955 | 0.957  |\\n| CodeBERT | 0.964 | 0.966 | 0.965  |\\n| GraphCodeBERT | 0.973 | 0.968 | 0.971  |'"
      ]
     },
     "execution_count": 17,
     "metadata": {},
     "output_type": "execute_result"
    }
   ],
   "source": [
    "latex_to_markdown_table(latex_code)"
   ]
  },
  {
   "cell_type": "code",
   "execution_count": 21,
   "metadata": {},
   "outputs": [],
   "source": [
    "def latex_to_markdown_table(latex_code):\n",
    "    # Убираем символы новой строки и лишние пробелы\n",
    "    latex_code = latex_code.replace(\"\\n\", \" \").strip()\n",
    "\n",
    "    # Находим содержимое между \\begin{tabular} и \\end{tabular}\n",
    "    start_table = latex_code.find(\"\\\\begin{tabular}\")\n",
    "    end_table = latex_code.find(\"\\\\end{tabular}\")\n",
    "    if start_table == -1 or end_table == -1:\n",
    "        raise ValueError(\"Не найдены секции \\\\begin{tabular} или \\\\end{tabular}\")\n",
    "    table_content = latex_code[start_table + len(\"\\\\begin{tabular}\") : end_table].strip()\n",
    "\n",
    "    # Удаляем метаинформацию типа {l|c|c|c}\n",
    "    table_content = table_content[table_content.find(\"}\") + 1 :].strip()\n",
    "\n",
    "    # Удаляем лишние \\hline\n",
    "    table_content = table_content.replace(\"\\\\hline\", \"\").strip()\n",
    "\n",
    "    # Разбиваем строки по символу \"\\\\\"\n",
    "    rows = [row.strip() for row in table_content.split(\"\\\\\") if row.strip()]\n",
    "\n",
    "    # Разделяем строки на ячейки\n",
    "    rows = [row.split(\"&\") for row in rows]\n",
    "    rows = [[cell.strip() for cell in row] for row in rows]\n",
    "\n",
    "    # Определяем количество столбцов\n",
    "    column_count = max(len(row) for row in rows)\n",
    "\n",
    "    # Формируем Markdown-таблицу\n",
    "    markdown_table = []\n",
    "    markdown_table.append(\"| \" + \" | \".join(rows[0]) + \" |\")\n",
    "    markdown_table.append(\"| \" + \" | \".join([\"-\" * max(len(cell), 3) for cell in rows[0]]) + \" |\")\n",
    "    for row in rows[1:]:\n",
    "        row += [\"\"] * (column_count - len(row))  # Добавляем пустые ячейки, если их не хватает\n",
    "        markdown_table.append(\"| \" + \" | \".join(row) + \" |\")\n",
    "\n",
    "    return \"\\n\".join(markdown_table)"
   ]
  },
  {
   "cell_type": "code",
   "execution_count": 26,
   "metadata": {},
   "outputs": [],
   "source": [
    "f = latex_to_markdown_table(text)"
   ]
  },
  {
   "cell_type": "code",
   "execution_count": 27,
   "metadata": {},
   "outputs": [
    {
     "data": {
      "text/plain": [
       "'| Model | Precision | Recall | F1 |\\n| ----- | --------- | ------ | --- |\\n| Deckard | 0.93 | 0.02 | 0.03 |\\n| RtvNN | 0.95 | 0.01 | 0.01 |\\n| CDLH | 0.92 | 0.74 | 0.82 |\\n| ASTNN | 0.92 | 0.94 | 0.93 |\\n| FA-AST-GMN | 0.96 | 0.94 | 0.95 |\\n| RoBERTa (code) | 0.960 | 0.955 | 0.957 |\\n| CodeBERT | 0.964 | 0.966 | 0.965 |\\n| GraphCodeBERT | 0.973 | 0.968 | 0.971 |'"
      ]
     },
     "execution_count": 27,
     "metadata": {},
     "output_type": "execute_result"
    }
   ],
   "source": [
    "f"
   ]
  },
  {
   "cell_type": "markdown",
   "metadata": {},
   "source": [
    "| Model | Precision | Recall | F1 |\n",
    "| ------ | ------ | ------ | ------ |\n",
    "| Deckard | 0.93 | 0.02 | 0.03 |\n",
    "| RtvNN | 0.95 | 0.01 | 0.01 |\n",
    "| CDLH | 0.92 | 0.74 | 0.82 |\n",
    "| ASTNN | 0.92 | 0.94 | 0.93 |\n",
    "| FA-AST-GMN | 0.96 | 0.94 | 0.95 |\n",
    "| RoBERTa (code) | 0.960 | 0.955 | 0.957 |\n",
    "| CodeBERT | 0.964 | 0.966 | 0.965 |\n",
    "| ASTNN | 0.973 | 0.968 | 0.971 |"
   ]
  },
  {
   "cell_type": "markdown",
   "metadata": {},
   "source": []
  }
 ],
 "metadata": {
  "kernelspec": {
   "display_name": "Python 3",
   "language": "python",
   "name": "python3"
  },
  "language_info": {
   "codemirror_mode": {
    "name": "ipython",
    "version": 3
   },
   "file_extension": ".py",
   "mimetype": "text/x-python",
   "name": "python",
   "nbconvert_exporter": "python",
   "pygments_lexer": "ipython3",
   "version": "3.10.12"
  }
 },
 "nbformat": 4,
 "nbformat_minor": 2
}
